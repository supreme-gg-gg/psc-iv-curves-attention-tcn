{
 "cells": [
  {
   "cell_type": "code",
   "execution_count": null,
   "id": "0e9258a7",
   "metadata": {},
   "outputs": [],
   "source": [
    "import numpy as np\n",
    "import matplotlib.pyplot as plt\n",
    "\n",
    "DATA_DIR = \"../dataset/Data_1k_sets/Data_1k_rng1/\"\n",
    "\n",
    "params = np.loadtxt(\n",
    "    DATA_DIR + \"LHS_parameters_m.txt\", delimiter=\",\"\n",
    ")  # input [n_samples, 31]\n",
    "iV = np.loadtxt(\n",
    "    DATA_DIR + \"iV_m.txt\", delimiter=\",\"\n",
    ")  # output [n_samples, n_points = len(Va)]\n",
    "Va = np.concatenate((np.arange(0, 0.41, 0.1), np.arange(0.425, 1.401, 0.025)))\n",
    "\n",
    "# original voltage grid from COMSOL\n",
    "voltage_raw = np.concatenate((np.arange(0, 0.41, 0.1), np.arange(0.425, 1.401, 0.025)))"
   ]
  },
  {
   "cell_type": "markdown",
   "id": "421d0ec2",
   "metadata": {},
   "source": [
    "The `reduce_curve` function will take a curve on the `voltage_raw` axis:\n",
    "\n",
    "1. First interpolate it to a specified number of points on the `high_res_V` axis (in this case 10,000 points)\n",
    "\n",
    "2. Then, find the zero-cross and MPP points on the interpolated curve that is much higher in resolution\n",
    "\n",
    "3. Finally, it will compute the reduced curve by sampling from the interpolated curve at `num_pre` points before MPP and `num_post` points after MPP (with a total of `num_pre + num_post - 1` points, -1 because we counted Vm i.e. voltage at MPP twice).\n",
    "\n",
    "4. It will return the reduced axis and the reduced curve, you will select `num_pre` and `num_post`\n",
    "\n",
    "```python"
   ]
  },
  {
   "cell_type": "code",
   "execution_count": null,
   "id": "42fe0b46",
   "metadata": {},
   "outputs": [],
   "source": [
    "def reduce_curve(curve, voltage_raw, hi_res_V, num_pre, num_post):\n",
    "    # 1) high-res interp\n",
    "    y_hi = np.interp(hi_res_V, voltage_raw, curve)\n",
    "    # 2) find Voc (zero-cross)\n",
    "    neg_idx = np.where(y_hi < 0)[0]\n",
    "    if len(neg_idx) > 0:\n",
    "        i0 = neg_idx[0]\n",
    "        # linear root-find between points i0-1,i0\n",
    "        V1, V2 = hi_res_V[i0 - 1], hi_res_V[i0]\n",
    "        y1, y2 = y_hi[i0 - 1], y_hi[i0]\n",
    "        Voc = V1 - y1 * (V2 - V1) / (y2 - y1)\n",
    "    else:\n",
    "        Voc = hi_res_V[-1]\n",
    "    # 3) find MPP\n",
    "    P = hi_res_V * y_hi\n",
    "    mpp = np.argmax(P)\n",
    "    Vmp = hi_res_V[mpp]\n",
    "    # 4) define pre/post grids\n",
    "    v_pre = np.linspace(0, Vmp, num_pre)\n",
    "    v_post = np.linspace(Vmp, Voc, num_post)\n",
    "    # 5) sample\n",
    "    y_pre = np.interp(v_pre, hi_res_V, y_hi)\n",
    "    y_post = np.interp(v_post, hi_res_V, y_hi)\n",
    "    v_red = np.concatenate((v_pre, v_post[1:]))\n",
    "    y_red = np.concatenate((y_pre, y_post[1:]))\n",
    "    return v_red, y_red\n"
   ]
  },
  {
   "cell_type": "markdown",
   "id": "fc4b5bd0",
   "metadata": {},
   "source": [
    "Here we will show how to use this function and plot the result for validation"
   ]
  },
  {
   "cell_type": "code",
   "execution_count": null,
   "id": "a01f01e6",
   "metadata": {},
   "outputs": [],
   "source": [
    "hi_V = np.linspace(0, 1.4, 10_000)\n",
    "num_pre, num_post = 3, 4\n",
    "\n",
    "Vs, Ys = [], []\n",
    "for curve in iV:\n",
    "    v_red, y_red = reduce_curve(curve, voltage_raw, hi_V, num_pre, num_post)\n",
    "    Vs.append(v_red)\n",
    "    Ys.append(y_red)\n",
    "Vs = np.stack(Vs)\n",
    "Ys = np.stack(Ys)\n",
    "\n",
    "# reconstruct back on voltage_raw\n",
    "iV_recon = np.vstack(\n",
    "    [\n",
    "        np.interp(voltage_raw, Vs[i], Ys[i], left=np.nan, right=np.nan)\n",
    "        for i in range(len(Ys))\n",
    "    ]\n",
    ")\n",
    "\n",
    "# compute RMSE per curve\n",
    "mask = ~np.isnan(iV_recon)\n",
    "rmse = np.sqrt(np.mean((iV_recon - iV) ** 2, axis=1))\n",
    "print(f\"Grid {num_pre}+{num_post}: mean RMSE = {rmse.mean():.3e}\")\n"
   ]
  },
  {
   "cell_type": "code",
   "execution_count": null,
   "id": "d3cde68d",
   "metadata": {},
   "outputs": [],
   "source": [
    "# try a bunch of different pre/post grid sizes and see the RMSE\n",
    "configs = [(2, 3), (3, 4), (5, 5), (10, 10)]\n",
    "results = []\n",
    "for np_pre, np_post in configs:\n",
    "    Ys_tmp = []\n",
    "    recon = []\n",
    "    for curve in iV:\n",
    "        vr, yr = reduce_curve(curve, voltage_raw, hi_V, np_pre, np_post)\n",
    "        recon.append(np.interp(voltage_raw, vr, yr))\n",
    "    recon = np.vstack(recon)\n",
    "    rmse = np.sqrt(np.mean((recon - iV) ** 2, axis=1))\n",
    "    results.append((np_pre, np_post, rmse.mean()))\n",
    "print(\"pre, post, mean_RMSE\")\n",
    "print(\"\\n\".join(f\"{a:2d},{b:2d},{c:.3e}\" for a, b, c in results))\n"
   ]
  },
  {
   "cell_type": "code",
   "execution_count": null,
   "id": "34f28e46",
   "metadata": {},
   "outputs": [],
   "source": [
    "idx = np.random.choice(len(iV), 1)[0]  # random index for plotting\n",
    "plt.figure(figsize=(6, 4))\n",
    "plt.plot(voltage_raw, iV[idx], label=\"raw\")\n",
    "plt.plot(Vs[idx], Ys[idx], \"o-\", label=f\"reduced {num_pre}+{num_post}\")\n",
    "plt.xlabel(\"Voltage (V)\")\n",
    "plt.ylabel(\"Current (A/m^2)\")\n",
    "plt.legend()\n",
    "plt.grid(True)\n",
    "plt.show()"
   ]
  },
  {
   "cell_type": "code",
   "execution_count": null,
   "id": "a62e2ac1",
   "metadata": {},
   "outputs": [],
   "source": [
    "# Histogram of reconstruction RMSE\n",
    "plt.figure(figsize=(5, 4))\n",
    "plt.hist(rmse, bins=50, color=\"C1\", alpha=0.8)\n",
    "plt.xlabel(\"Reconstruction RMSE (A/m^2)\")\n",
    "plt.ylabel(\"Count\")\n",
    "plt.title(f\"RMSE distribution ({num_pre}+{num_post} points)\")\n",
    "plt.grid(True)\n",
    "plt.show()\n"
   ]
  },
  {
   "cell_type": "code",
   "execution_count": null,
   "id": "8a0a0ecb",
   "metadata": {},
   "outputs": [],
   "source": [
    "plt.figure(figsize=(5, 5))\n",
    "plt.scatter(iV_recon.flatten(), iV.flatten(), s=1, alpha=0.1)\n",
    "mins = np.nanmin([iV_recon, iV])\n",
    "maxs = np.nanmax([iV_recon, iV])\n",
    "plt.plot([mins, maxs], [mins, maxs], \"k--\", lw=1)\n",
    "plt.xlabel(\"Reconstructed current\")\n",
    "plt.ylabel(\"Original current\")\n",
    "plt.title(\"Raw vs. reconstructed\")\n",
    "plt.grid(True)\n",
    "plt.show()"
   ]
  },
  {
   "cell_type": "code",
   "execution_count": null,
   "id": "7fab67c1",
   "metadata": {},
   "outputs": [],
   "source": [
    "vocs, vmps = [], []\n",
    "for curve in iV:\n",
    "    # reuse the logic from reduce_curve to get Voc & Vmp\n",
    "    y_hi = np.interp(hi_V, voltage_raw, curve)\n",
    "    neg = np.where(y_hi < 0)[0]\n",
    "    if len(neg) > 0:\n",
    "        i0 = neg[0]\n",
    "        V1, V2 = hi_V[i0 - 1], hi_V[i0]\n",
    "        y1, y2 = y_hi[i0 - 1], y_hi[i0]\n",
    "        voc = V1 - y1 * (V2 - V1) / (y2 - y1)\n",
    "    else:\n",
    "        voc = hi_V[-1]\n",
    "    P = hi_V * y_hi\n",
    "    idx_mpp = np.argmax(P)\n",
    "    vmp = hi_V[idx_mpp]\n",
    "    vocs.append(voc)\n",
    "    vmps.append(vmp)\n",
    "\n",
    "plt.figure(figsize=(10, 4))\n",
    "plt.subplot(1, 2, 1)\n",
    "plt.hist(vocs, bins=30, color=\"C2\")\n",
    "plt.title(\"Voc distribution\")\n",
    "plt.xlabel(\"Voc (V)\")\n",
    "plt.subplot(1, 2, 2)\n",
    "plt.hist(vmps, bins=30, color=\"C3\")\n",
    "plt.title(\"Vmp distribution\")\n",
    "plt.xlabel(\"Vmp (V)\")\n",
    "plt.tight_layout()\n",
    "plt.show()\n"
   ]
  },
  {
   "cell_type": "markdown",
   "id": "6cfca4b7",
   "metadata": {},
   "source": [
    "We can also directly compute the cell metrics from the reduced curve (which in downstream will be predicted)"
   ]
  },
  {
   "cell_type": "code",
   "execution_count": null,
   "id": "d304ce9d",
   "metadata": {},
   "outputs": [],
   "source": [
    "# compute IV metrics straight on the reduced grid\n",
    "def iv_metrics_reduced(v_red, j_red):\n",
    "    # Jsc at V=0\n",
    "    Jsc = j_red[0]\n",
    "    # Maximum power point on the discrete points\n",
    "    P = v_red * j_red\n",
    "    idx = np.argmax(P)\n",
    "    Vmp, Jmp = v_red[idx], j_red[idx]\n",
    "    Pmp = Vmp * Jmp\n",
    "    # Voc is the last sampled voltage (should bracket zero‐cross)\n",
    "    Voc = v_red[-1]\n",
    "    FF = Pmp / (Voc * Jsc)\n",
    "    return dict(Jsc=Jsc, Voc=Voc, Vmp=Vmp, Jmp=Jmp, Pmp=Pmp, FF=FF)\n",
    "\n",
    "\n",
    "# example using your first prediction\n",
    "y_pred = Ys[0]  # model output at Vs[0]\n",
    "metrics = iv_metrics_reduced(Vs[0], y_pred)\n",
    "print(metrics)\n"
   ]
  },
  {
   "cell_type": "markdown",
   "id": "11200311",
   "metadata": {},
   "source": [
    "If you want to reconstruct the original curve on the full original axis, you can use an Interpolator like below but it is not necessary for our use case where we only care about positive values."
   ]
  },
  {
   "cell_type": "code",
   "execution_count": null,
   "id": "28c2ef1b",
   "metadata": {},
   "outputs": [],
   "source": [
    "from scipy.interpolate import PchipInterpolator\n",
    "\n",
    "def reconstruct_curve(v_red, y_pred, voltage_target):\n",
    "    # use a shape‐preserving interpolator\n",
    "    f = PchipInterpolator(v_red, y_pred, extrapolate=False)\n",
    "    return f(voltage_target)\n",
    "\n",
    "\n",
    "# example for one sample\n",
    "y_pred = Ys[0]  # your model’s output at v_red = Vs[0]\n",
    "voltage_full = voltage_raw  # or any grid you like\n",
    "iV_full_pred = reconstruct_curve(Vs[0], y_pred, voltage_full)\n",
    "\n",
    "plt.figure()\n",
    "plt.plot(voltage_full, iV_full_pred, \"-\", label=\"pred full curve\")\n",
    "plt.plot(voltage_raw, iV[0], \"--\", label=\"ground truth\")\n",
    "plt.legend()\n",
    "plt.xlabel(\"V\")\n",
    "plt.ylabel(\"J\")\n",
    "plt.show()"
   ]
  },
  {
   "cell_type": "code",
   "execution_count": null,
   "id": "03ea231e",
   "metadata": {},
   "outputs": [],
   "source": [
    "def iv_metrics(v, j):\n",
    "    # assume j descending past zero‐cross; use linear root‐find for Voc\n",
    "    neg = np.where(j < 0)[0]\n",
    "    if len(neg) > 0:\n",
    "        i0 = neg[0]\n",
    "        V1, V2 = v[i0 - 1], v[i0]\n",
    "        j1, j2 = j[i0 - 1], j[i0]\n",
    "        Voc = V1 - j1 * (V2 - V1) / (j2 - j1)\n",
    "    else:\n",
    "        Voc = v[-1]\n",
    "    # Jsc = j at V=0 (first point)\n",
    "    Jsc = j[0]\n",
    "    # MPP\n",
    "    P = v * j\n",
    "    idx = np.argmax(P)\n",
    "    Vmp, Jmp = v[idx], j[idx]\n",
    "    Pmp = Vmp * Jmp\n",
    "    FF = Pmp / (Voc * Jsc)\n",
    "    return dict(Jsc=Jsc, Voc=Voc, Vmp=Vmp, Jmp=Jmp, Pmp=Pmp, FF=FF)\n",
    "\n",
    "\n",
    "metrics = iv_metrics(Vs[0], Ys[0])\n",
    "print(metrics)\n"
   ]
  }
 ],
 "metadata": {
  "kernelspec": {
   "display_name": "pytorch",
   "language": "python",
   "name": "python3"
  },
  "language_info": {
   "codemirror_mode": {
    "name": "ipython",
    "version": 3
   },
   "file_extension": ".py",
   "mimetype": "text/x-python",
   "name": "python",
   "nbconvert_exporter": "python",
   "pygments_lexer": "ipython3",
   "version": "3.12.9"
  }
 },
 "nbformat": 4,
 "nbformat_minor": 5
}
