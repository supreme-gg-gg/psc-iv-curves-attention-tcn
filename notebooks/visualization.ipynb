{
 "cells": [
  {
   "cell_type": "markdown",
   "id": "bf1621f1",
   "metadata": {},
   "source": [
    "# Visualization\n",
    "\n",
    "This notebook loads, preprocesses, and visualizes raw data from the given dataset, generated from the COMSOL simulations of a single-junction perovskite solar cell. See Zhao Xinhai's PhD thesis for more details on the generation.\n",
    "\n",
    "Here, we will visualize a few current-voltage (I-V) curves from the dataset. _For interactive visualization, run the code as a Python script._"
   ]
  },
  {
   "cell_type": "code",
   "execution_count": null,
   "id": "10c9534f",
   "metadata": {},
   "outputs": [],
   "source": [
    "import numpy as np\n",
    "import matplotlib.pyplot as plt\n",
    "from sklearn.preprocessing import StandardScaler, RobustScaler"
   ]
  },
  {
   "cell_type": "markdown",
   "id": "a5f42d11",
   "metadata": {},
   "source": [
    "Set where to load the data from, provide the path to the folder containing the text files."
   ]
  },
  {
   "cell_type": "code",
   "execution_count": null,
   "id": "29894cbe",
   "metadata": {},
   "outputs": [],
   "source": [
    "DATA_DIR = \"../dataset/Data_1k_sets/Data_1k_rng1/\""
   ]
  },
  {
   "cell_type": "code",
   "execution_count": null,
   "id": "712448f6",
   "metadata": {},
   "outputs": [],
   "source": [
    "# Output: output in the form of current density, A/m^2\n",
    "Output = np.loadtxt(DATA_DIR + 'iV_m.txt', delimiter=',')\n",
    "# Input: 31 input parameters\n",
    "Input = np.loadtxt(DATA_DIR + 'LHS_parameters_m.txt', delimiter=',')\n",
    "\n",
    "# See MATLAB file for COMSOL sweep that defines the applied voltage range\n",
    "Va = np.concatenate((np.arange(0, 0.41, 0.1), np.arange(0.425, 1.401, 0.025)))  # applied voltage, V\n",
    "\n",
    "N = Output.shape[0]  # number of cases"
   ]
  },
  {
   "cell_type": "code",
   "execution_count": null,
   "id": "ad7975c8",
   "metadata": {},
   "outputs": [],
   "source": [
    "# Input data\n",
    "plt.figure(4)\n",
    "plt.boxplot(Input)\n",
    "plt.yscale('log')\n",
    "plt.title('Input Data (log scale)')\n",
    "plt.xlabel('Parameter Index')\n",
    "plt.ylabel('Value')"
   ]
  },
  {
   "cell_type": "code",
   "execution_count": null,
   "id": "86c125fb",
   "metadata": {},
   "outputs": [],
   "source": [
    "# iV-curve for the first case\n",
    "plt.figure(1)\n",
    "plt.plot(Va, Output[200, :], '.')\n",
    "plt.ylim([0, 400])\n",
    "plt.title('iV-curve for the first case')\n",
    "plt.xlabel('Voltage (V)')\n",
    "plt.ylabel('Current Density (A/m^2)')"
   ]
  },
  {
   "cell_type": "code",
   "execution_count": null,
   "id": "856b6e3a",
   "metadata": {},
   "outputs": [],
   "source": [
    "# iV-curves for all cases\n",
    "plt.figure(2)\n",
    "for i in range(N):\n",
    "    plt.plot(Va, Output[i, :], '.')\n",
    "plt.ylim([-2000, 400])\n",
    "plt.title('iV-curves for all cases')\n",
    "plt.xlabel('Voltage (V)')\n",
    "plt.ylabel('Current Density (A/m^2)')"
   ]
  },
  {
   "cell_type": "code",
   "execution_count": null,
   "id": "4f69de97",
   "metadata": {},
   "outputs": [],
   "source": [
    "# Output current density\n",
    "plt.figure(3)\n",
    "plt.boxplot(Output)\n",
    "plt.ylim([-2500, 400])\n",
    "plt.title('Output Current Density')\n",
    "plt.xlabel('Voltage Index')\n",
    "plt.ylabel('Current Density (A/m^2)')\n",
    "plt.grid(True)\n",
    "\n",
    "# Mean, max, min current density across all cases\n",
    "plt.figure(5)\n",
    "curr_den_mean = np.mean(Output, axis=0)\n",
    "curr_den_max = np.max(Output, axis=0)\n",
    "curr_den_min = np.min(Output, axis=0)\n",
    "plt.plot(Va, curr_den_mean, label='Mean')\n",
    "plt.plot(Va, curr_den_min, label='Min')\n",
    "plt.plot(Va, curr_den_max, label='Max')\n",
    "plt.ylim([-2500, 400])\n",
    "plt.title('Mean, Min, Max Current Density')\n",
    "plt.xlabel('Voltage (V)')\n",
    "plt.ylabel('Current Density (A/m^2)')\n",
    "plt.grid(True)\n",
    "plt.legend()\n",
    "\n",
    "plt.show()"
   ]
  },
  {
   "cell_type": "markdown",
   "id": "83a79ad7",
   "metadata": {},
   "source": [
    "## Features Scaling\n",
    "\n",
    "It seems like we have some crazy ranges in the input features. We need to perform log scaling on some features and then robust scaling. Visualize the result:"
   ]
  },
  {
   "cell_type": "code",
   "execution_count": null,
   "id": "405dccaa",
   "metadata": {},
   "outputs": [],
   "source": [
    "# Step 1: Apply log10 transformation to handle vast dynamic range and skewedness\n",
    "# Epsilon to handle zeros or extremely small positive numbers that might round to zero\n",
    "epsilon = 1e-40\n",
    "Input_log_transformed = np.log10(Input + epsilon)\n",
    "\n",
    "# Verify the result of log transformation (should now be in a range like -40 to +30)\n",
    "plt.figure(figsize=(8, 5))\n",
    "plt.boxplot(Input_log_transformed)\n",
    "plt.title('Input Data After log10 Transformation')\n",
    "plt.xlabel('Parameter Index')\n",
    "plt.ylabel('log10(Value + epsilon)')\n",
    "plt.show()\n",
    "\n",
    "\n",
    "# Step 2: Apply RobustScaler to the log-transformed data\n",
    "# This will normalize the mean and scale within each parameter's distribution.\n",
    "# This is crucial for ML models.\n",
    "scaler = RobustScaler()\n",
    "Input_final_scaled = scaler.fit_transform(Input_log_transformed)\n",
    "\n",
    "# Verify the result of RobustScaler (should now be centered around 0 for most features)\n",
    "plt.figure(figsize=(8, 5))\n",
    "plt.boxplot(Input_final_scaled)\n",
    "plt.title('Input Data After log10 and Robust Scaling')\n",
    "plt.xlabel('Parameter Index')\n",
    "plt.ylabel('Scaled Value')\n",
    "# Set y-limits to see the scaling effect clearly\n",
    "plt.ylim([-5, 5]) # Typically, scaled data will mostly fall in this range\n",
    "plt.show()\n",
    "\n",
    "print(\"\\nShape of the final processed input data:\", Input_final_scaled.shape)\n",
    "print(\"Example of values from the final processed data (first row):\")\n",
    "print(Input_final_scaled[0, :5]) # Print first 5 features of the first sample"
   ]
  },
  {
   "cell_type": "code",
   "execution_count": null,
   "id": "cd4c0220",
   "metadata": {},
   "outputs": [],
   "source": [
    "# Apply RobustScaler to the output (y_train)\n",
    "output_scaler = RobustScaler()\n",
    "y_train_scaled = output_scaler.fit_transform(Output)\n",
    "\n",
    "# Plot the distribution after scaling\n",
    "plt.figure(figsize=(8, 5))\n",
    "plt.boxplot(y_train_scaled)\n",
    "plt.title('Output Data After Robust Scaling')\n",
    "plt.xlabel('Voltage Index')\n",
    "plt.ylabel('Scaled Current Density')\n",
    "plt.ylim([-5, 5])\n",
    "plt.show()"
   ]
  },
  {
   "cell_type": "markdown",
   "id": "f19b6e3a",
   "metadata": {},
   "source": [
    "Analyze the feature correlation, result: there pretty much no correlation between the features."
   ]
  },
  {
   "cell_type": "code",
   "execution_count": null,
   "id": "d5c38177",
   "metadata": {},
   "outputs": [],
   "source": [
    "# Compute the correlation matrix for the original input data (log-transformed for better scaling)\n",
    "corr_matrix = np.corrcoef(Input_log_transformed, rowvar=False)\n",
    "\n",
    "plt.figure(figsize=(10, 8))\n",
    "im = plt.imshow(corr_matrix, cmap='coolwarm', vmin=-1, vmax=1)\n",
    "plt.colorbar(im, fraction=0.046, pad=0.04)\n",
    "plt.title('Feature Correlation Matrix (log-transformed Input)')\n",
    "plt.xlabel('Parameter Index')\n",
    "plt.ylabel('Parameter Index')\n",
    "plt.show()"
   ]
  },
  {
   "cell_type": "markdown",
   "id": "b7c1e83b",
   "metadata": {},
   "source": [
    "## Filtering out negative current values\n",
    "\n",
    "Now we realised that we do not need the negative part of the current values, we first need to filter this and check if all curves are monotonically decreasing (so we can enforce that physics loss)."
   ]
  },
  {
   "cell_type": "code",
   "execution_count": null,
   "id": "43a1e67e",
   "metadata": {},
   "outputs": [],
   "source": [
    "filtered_curves = []\n",
    "points_per_sample = []\n",
    "\n",
    "for i in range(N):\n",
    "    sample = Output[i, :]\n",
    "    # Find the index of the first negative value in this sample\n",
    "    neg_indices = np.where(sample < 0)[0]\n",
    "    if len(neg_indices) > 0:\n",
    "        first_neg = neg_indices[0]\n",
    "        idx = np.arange(first_neg + 1)  # include the first negative point\n",
    "    else:\n",
    "        idx = np.arange(len(Va))\n",
    "    filtered_curves.append((Va[idx], sample[idx]))\n",
    "    points_per_sample.append(len(idx))\n",
    "\n",
    "plt.figure(figsize=(10, 6))\n",
    "for Va_sample, current_sample in filtered_curves:\n",
    "    plt.plot(Va_sample, current_sample, '.-', markersize=4)\n",
    "plt.title('I-V Curves (filtered individually with Voc)')\n",
    "plt.xlabel('Voltage (V)')\n",
    "plt.ylabel('Current Density (A/m^2)')\n",
    "plt.ylim(bottom=min(current_sample.min(), 0), top=400)\n",
    "plt.grid(True)\n",
    "plt.show()\n",
    "\n",
    "print(\"Number of points per sample:\", points_per_sample)\n",
    "print(\"Max number of points in a sample:\", max(points_per_sample))\n",
    "print(\"Min number of points in a sample:\", min(points_per_sample))"
   ]
  },
  {
   "cell_type": "code",
   "execution_count": null,
   "id": "9f63569f",
   "metadata": {},
   "outputs": [],
   "source": [
    "# Identify and plot non-monotonically decreasing curves\n",
    "plt.figure(figsize=(10, 6))\n",
    "non_monotonic_curves = []\n",
    "\n",
    "for Va_sample, current_sample in filtered_curves:\n",
    "    if not np.all(np.diff(current_sample) <= 0):\n",
    "        non_monotonic_curves.append((Va_sample, current_sample))\n",
    "        plt.plot(Va_sample, current_sample, '.-', markersize=4)\n",
    "\n",
    "plt.title('Non-Monotonically Decreasing I-V Curves')\n",
    "plt.xlabel('Voltage (V)')\n",
    "plt.ylabel('Current Density (A/m^2)')\n",
    "plt.grid(True)\n",
    "plt.show()\n",
    "\n",
    "print(f\"Number of non-monotonically decreasing curves: {len(non_monotonic_curves)}\")\n"
   ]
  },
  {
   "cell_type": "markdown",
   "id": "92f1ff07",
   "metadata": {},
   "source": [
    "### Methods to adapt the model to the new sequence data\n",
    "\n",
    "- Padding\n",
    "- Interpolate / exterpolate (bad idea?)\n",
    "- Switch to sequence tasks (some can combine with generative tasks)\n",
    "\n",
    "Approach one: fix the number of points, but need two steps\n",
    "- Input parameters\n",
    "- First predict V_oc\n",
    "- Then reconstruct the voltage axis np.linspace(0, predicted V_oc, num_points)\n",
    "- THEN predict the current values at these voltages for fixed num_points\n",
    "- The output IV curve is (target_v_points, predicted_current_values)\n",
    "\n",
    "Approach two: use a sequence model, generates a sequence of (V, I) pairs, one step at a time, decides when to stop by a special token.\n",
    "\n",
    "Approach three: still keep our existing models, but preprocess the data to pad the IV curves to fixed length with zeros and create a mask to ignore them during loss calculation. **THIS IS NOT VALIDATED TO WORK YET!**"
   ]
  }
 ],
 "metadata": {
  "kernelspec": {
   "display_name": "pytorch",
   "language": "python",
   "name": "python3"
  },
  "language_info": {
   "codemirror_mode": {
    "name": "ipython",
    "version": 3
   },
   "file_extension": ".py",
   "mimetype": "text/x-python",
   "name": "python",
   "nbconvert_exporter": "python",
   "pygments_lexer": "ipython3",
   "version": "3.12.9"
  }
 },
 "nbformat": 4,
 "nbformat_minor": 5
}
